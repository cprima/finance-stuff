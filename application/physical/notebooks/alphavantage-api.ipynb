{
 "cells": [
  {
   "cell_type": "markdown",
   "metadata": {},
   "source": [
    "# Stock data with Alphavantage.co API 2018-07\n",
    "\n",
    "This notebook contains a few experiments to work with the API of Alphavantage.co which seems the currently best stock data source. There is the Python package `fix-yahoo-finance` which does what the name says, but at least for the immediate future us personal and low-volume stock data grabbers seem to be well served by Alphavantage for now.\n",
    "\n",
    "The road ahead is unclear as it seems that they are just exploring potential business models https://digit.hbs.org/submission/alpha-vantage-platform-strategy-in-the-financial-data-api-market/ but many of their current user base might well accept a monetization strategy.\n",
    "\n",
    "This notebook resulted from codeexperiments for the Google Apps Engine, where the standard tier offers Python2.7 containers. Quick results are always achieved in Python leveraging the Pandas package, but for the Apps Engine cloud version a pure lists/dictionaries/sequences variatin was also needed."
   ]
  },
  {
   "cell_type": "code",
   "execution_count": 1,
   "metadata": {},
   "outputs": [],
   "source": [
    "import json\n",
    "import os\n",
    "from pprint import pformat\n",
    "\n",
    "import pandas as pd\n",
    "import matplotlib.pyplot as plt\n",
    "%matplotlib inline\n",
    "\n",
    "import requests\n",
    "\n",
    "import datetime\n",
    "import matplotlib.dates as mdates\n",
    "\n",
    "#python3 -m pip install mpl_finance\n",
    "from mpl_finance import candlestick_ohlc\n",
    "\n",
    "#python3 -m pip install ipywidgets\n",
    "from ipywidgets import widgets"
   ]
  },
  {
   "cell_type": "code",
   "execution_count": 2,
   "metadata": {
    "scrolled": true
   },
   "outputs": [
    {
     "name": "stdout",
     "output_type": "stream",
     "text": [
      "This is how the config file looks like:\n",
      "{'alphavantage': {'apikey': '****************'}}\n",
      "\n",
      "\n",
      "Insert the API key from https://www.alphavantage.co/support/#api-key and press Enter\n"
     ]
    },
    {
     "data": {
      "application/vnd.jupyter.widget-view+json": {
       "model_id": "c23673744e5b4a4ca9254a2bc32071f9",
       "version_major": 2,
       "version_minor": 0
      },
      "text/plain": [
       "Text(value='', description='Insert API Keyand press Enter:', placeholder='0123456789abcdef')"
      ]
     },
     "metadata": {},
     "output_type": "display_data"
    }
   ],
   "source": [
    "apikey=\"demo\"\n",
    "try:\n",
    "    with open(os.path.join(\"./stocksconfig.json\")) as f:\n",
    "        config = json.load(f)\n",
    "        apikey = config['alphavantage']['apikey']\n",
    "        config['alphavantage']['apikey'] = '****************'\n",
    "        print(\"This is how the config file looks like:\\n{}\\n\\n\".format(pformat(config)))\n",
    "except FileNotFoundError: #IOError\n",
    "    print(\"Get or retrieve your API Key from https://www.alphavantage.co/support/#api-key\")\n",
    "\n",
    "if apikey == \"demo\":\n",
    "    print(\"Insert the API key from https://www.alphavantage.co/support/#api-key and press Enter\")\n",
    "    input_variable = widgets.Text(value='', placeholder='0123456789abcdef', description='Insert API Keyand press Enter:', disabled=False )\n",
    "    def bind_global_apikey(sender):\n",
    "        global apikey\n",
    "        if len(str(input_variable.value)) == 16:\n",
    "            apikey = input_variable.value\n",
    "            #print(\"Going to use apikey \", apikey)\n",
    "        else:\n",
    "            print(\"Must be 16 characters long: \", apikey)\n",
    "    input_variable.on_submit(bind_global_apikey)\n",
    "    display(input_variable)\n"
   ]
  },
  {
   "cell_type": "markdown",
   "metadata": {},
   "source": [
    "## Grab data\n",
    "\n",
    "This notebook is using the requests library docs.python-requests.org to query the API for json data.\n",
    "Then a few transformations are done to come up with a more generic dataframe."
   ]
  },
  {
   "cell_type": "code",
   "execution_count": 3,
   "metadata": {},
   "outputs": [],
   "source": [
    "#if still no valid apikey\n",
    "if apikey == \"demo\":\n",
    "    symbol = \"MSFT\"\n",
    "else:\n",
    "    symbol = '^GDAXI'\n",
    "\n",
    "# the endpoint is for TIME_SERIES_DAILY_ADJUSTED\n",
    "# https://www.alphavantage.co/documentation/#dailyadj\n",
    "r = requests.get(url='https://www.alphavantage.co/query?function=TIME_SERIES_DAILY_ADJUSTED&symbol={0}&apikey={1}'.format(symbol, apikey))\n",
    "#I like to keep such calls in a separate cell so I can work on the object locally"
   ]
  },
  {
   "cell_type": "markdown",
   "metadata": {},
   "source": [
    "## With Pandas"
   ]
  },
  {
   "cell_type": "code",
   "execution_count": 4,
   "metadata": {},
   "outputs": [
    {
     "data": {
      "text/html": [
       "<div>\n",
       "<style scoped>\n",
       "    .dataframe tbody tr th:only-of-type {\n",
       "        vertical-align: middle;\n",
       "    }\n",
       "\n",
       "    .dataframe tbody tr th {\n",
       "        vertical-align: top;\n",
       "    }\n",
       "\n",
       "    .dataframe thead th {\n",
       "        text-align: right;\n",
       "    }\n",
       "</style>\n",
       "<table border=\"1\" class=\"dataframe\">\n",
       "  <thead>\n",
       "    <tr style=\"text-align: right;\">\n",
       "      <th></th>\n",
       "      <th>Open</th>\n",
       "      <th>High</th>\n",
       "      <th>Low</th>\n",
       "      <th>4. close</th>\n",
       "      <th>Close</th>\n",
       "      <th>6. volume</th>\n",
       "      <th>7. dividend amount</th>\n",
       "      <th>8. split coefficient</th>\n",
       "      <th>Date</th>\n",
       "    </tr>\n",
       "  </thead>\n",
       "  <tbody>\n",
       "    <tr>\n",
       "      <th>2018-02-28</th>\n",
       "      <td>12427.4600</td>\n",
       "      <td>12516.9199</td>\n",
       "      <td>12417.9600</td>\n",
       "      <td>12435.8496</td>\n",
       "      <td>12435.8496</td>\n",
       "      <td>93391300.0</td>\n",
       "      <td>0.0</td>\n",
       "      <td>1.0</td>\n",
       "      <td>736753.0</td>\n",
       "    </tr>\n",
       "    <tr>\n",
       "      <th>2018-03-01</th>\n",
       "      <td>12386.4004</td>\n",
       "      <td>12387.8799</td>\n",
       "      <td>12143.1396</td>\n",
       "      <td>12190.9404</td>\n",
       "      <td>12190.9404</td>\n",
       "      <td>113680600.0</td>\n",
       "      <td>0.0</td>\n",
       "      <td>1.0</td>\n",
       "      <td>736754.0</td>\n",
       "    </tr>\n",
       "    <tr>\n",
       "      <th>2018-03-02</th>\n",
       "      <td>12051.8896</td>\n",
       "      <td>12081.4004</td>\n",
       "      <td>11877.6602</td>\n",
       "      <td>11913.7100</td>\n",
       "      <td>11913.7100</td>\n",
       "      <td>120480800.0</td>\n",
       "      <td>0.0</td>\n",
       "      <td>1.0</td>\n",
       "      <td>736755.0</td>\n",
       "    </tr>\n",
       "    <tr>\n",
       "      <th>2018-03-05</th>\n",
       "      <td>11831.5703</td>\n",
       "      <td>12110.1797</td>\n",
       "      <td>11830.9805</td>\n",
       "      <td>12090.8701</td>\n",
       "      <td>12090.8701</td>\n",
       "      <td>109920600.0</td>\n",
       "      <td>0.0</td>\n",
       "      <td>1.0</td>\n",
       "      <td>736758.0</td>\n",
       "    </tr>\n",
       "    <tr>\n",
       "      <th>2018-03-06</th>\n",
       "      <td>12229.2900</td>\n",
       "      <td>12259.5801</td>\n",
       "      <td>12110.3398</td>\n",
       "      <td>12113.8701</td>\n",
       "      <td>12113.8701</td>\n",
       "      <td>104517000.0</td>\n",
       "      <td>0.0</td>\n",
       "      <td>1.0</td>\n",
       "      <td>736759.0</td>\n",
       "    </tr>\n",
       "  </tbody>\n",
       "</table>\n",
       "</div>"
      ],
      "text/plain": [
       "                  Open        High         Low    4. close       Close  \\\n",
       "2018-02-28  12427.4600  12516.9199  12417.9600  12435.8496  12435.8496   \n",
       "2018-03-01  12386.4004  12387.8799  12143.1396  12190.9404  12190.9404   \n",
       "2018-03-02  12051.8896  12081.4004  11877.6602  11913.7100  11913.7100   \n",
       "2018-03-05  11831.5703  12110.1797  11830.9805  12090.8701  12090.8701   \n",
       "2018-03-06  12229.2900  12259.5801  12110.3398  12113.8701  12113.8701   \n",
       "\n",
       "              6. volume  7. dividend amount  8. split coefficient      Date  \n",
       "2018-02-28   93391300.0                 0.0                   1.0  736753.0  \n",
       "2018-03-01  113680600.0                 0.0                   1.0  736754.0  \n",
       "2018-03-02  120480800.0                 0.0                   1.0  736755.0  \n",
       "2018-03-05  109920600.0                 0.0                   1.0  736758.0  \n",
       "2018-03-06  104517000.0                 0.0                   1.0  736759.0  "
      ]
     },
     "execution_count": 4,
     "metadata": {},
     "output_type": "execute_result"
    }
   ],
   "source": [
    "df = pd.DataFrame.from_dict(r.json()['Time Series (Daily)'], orient=\"index\")\n",
    "\n",
    "# the data needs to be casted into non-strings\n",
    "df=df.astype(float) #https://stackoverflow.com/a/31495326\n",
    "\n",
    "# and the index need to be proper dates\n",
    "df.index = pd.to_datetime(df.index)\n",
    "# and for easier consumption later the index is added as a column\n",
    "df['Date'] = df.index.map(mdates.date2num)\n",
    "\n",
    "# finally some more generic column names\n",
    "df = df.rename(columns={'1. open': 'Open', '2. high': 'High', '3. low': 'Low', '5. adjusted close': 'Close'})\n",
    "\n",
    "#a brief glimpse into the data\n",
    "df.head()\n"
   ]
  },
  {
   "cell_type": "code",
   "execution_count": 5,
   "metadata": {},
   "outputs": [
    {
     "data": {
      "image/png": "[encoded data removed]",
      "text/plain": [
       "<Figure size 432x288 with 1 Axes>"
      ]
     },
     "metadata": {},
     "output_type": "display_data"
    }
   ],
   "source": [
    "#But there is a problam with ^GDAXI at Whit Monday (Pfingstmontag)\n",
    "#The visual inspection shows it immediately\n",
    "df['Close'].plot();"
   ]
  },
  {
   "cell_type": "code",
   "execution_count": 6,
   "metadata": {},
   "outputs": [
    {
     "data": {
      "text/html": [
       "<div>\n",
       "<style scoped>\n",
       "    .dataframe tbody tr th:only-of-type {\n",
       "        vertical-align: middle;\n",
       "    }\n",
       "\n",
       "    .dataframe tbody tr th {\n",
       "        vertical-align: top;\n",
       "    }\n",
       "\n",
       "    .dataframe thead th {\n",
       "        text-align: right;\n",
       "    }\n",
       "</style>\n",
       "<table border=\"1\" class=\"dataframe\">\n",
       "  <thead>\n",
       "    <tr style=\"text-align: right;\">\n",
       "      <th></th>\n",
       "      <th>Open</th>\n",
       "      <th>High</th>\n",
       "      <th>Low</th>\n",
       "      <th>4. close</th>\n",
       "      <th>Close</th>\n",
       "      <th>6. volume</th>\n",
       "      <th>7. dividend amount</th>\n",
       "      <th>8. split coefficient</th>\n",
       "      <th>Date</th>\n",
       "    </tr>\n",
       "  </thead>\n",
       "  <tbody>\n",
       "    <tr>\n",
       "      <th>count</th>\n",
       "      <td>100.000000</td>\n",
       "      <td>100.000000</td>\n",
       "      <td>100.000000</td>\n",
       "      <td>100.000000</td>\n",
       "      <td>100.000000</td>\n",
       "      <td>1.000000e+02</td>\n",
       "      <td>100.0</td>\n",
       "      <td>100.0</td>\n",
       "      <td>100.000000</td>\n",
       "    </tr>\n",
       "    <tr>\n",
       "      <th>mean</th>\n",
       "      <td>12413.881229</td>\n",
       "      <td>12480.751580</td>\n",
       "      <td>12331.891721</td>\n",
       "      <td>12410.117285</td>\n",
       "      <td>12410.117285</td>\n",
       "      <td>9.966966e+07</td>\n",
       "      <td>0.0</td>\n",
       "      <td>1.0</td>\n",
       "      <td>736825.280000</td>\n",
       "    </tr>\n",
       "    <tr>\n",
       "      <th>std</th>\n",
       "      <td>1293.325042</td>\n",
       "      <td>1297.317558</td>\n",
       "      <td>1287.138928</td>\n",
       "      <td>1293.041874</td>\n",
       "      <td>1293.041874</td>\n",
       "      <td>3.445684e+07</td>\n",
       "      <td>0.0</td>\n",
       "      <td>0.0</td>\n",
       "      <td>42.053617</td>\n",
       "    </tr>\n",
       "    <tr>\n",
       "      <th>min</th>\n",
       "      <td>0.000000</td>\n",
       "      <td>0.000000</td>\n",
       "      <td>0.000000</td>\n",
       "      <td>0.000000</td>\n",
       "      <td>0.000000</td>\n",
       "      <td>0.000000e+00</td>\n",
       "      <td>0.0</td>\n",
       "      <td>1.0</td>\n",
       "      <td>736753.000000</td>\n",
       "    </tr>\n",
       "    <tr>\n",
       "      <th>25%</th>\n",
       "      <td>12322.247275</td>\n",
       "      <td>12380.745125</td>\n",
       "      <td>12204.732150</td>\n",
       "      <td>12305.797600</td>\n",
       "      <td>12305.797600</td>\n",
       "      <td>8.447128e+07</td>\n",
       "      <td>0.0</td>\n",
       "      <td>1.0</td>\n",
       "      <td>736789.750000</td>\n",
       "    </tr>\n",
       "    <tr>\n",
       "      <th>50%</th>\n",
       "      <td>12534.570350</td>\n",
       "      <td>12584.580050</td>\n",
       "      <td>12471.240250</td>\n",
       "      <td>12542.310050</td>\n",
       "      <td>12542.310050</td>\n",
       "      <td>9.921285e+07</td>\n",
       "      <td>0.0</td>\n",
       "      <td>1.0</td>\n",
       "      <td>736826.500000</td>\n",
       "    </tr>\n",
       "    <tr>\n",
       "      <th>75%</th>\n",
       "      <td>12788.652850</td>\n",
       "      <td>12832.219950</td>\n",
       "      <td>12714.402600</td>\n",
       "      <td>12790.909925</td>\n",
       "      <td>12790.909925</td>\n",
       "      <td>1.101684e+08</td>\n",
       "      <td>0.0</td>\n",
       "      <td>1.0</td>\n",
       "      <td>736860.750000</td>\n",
       "    </tr>\n",
       "    <tr>\n",
       "      <th>max</th>\n",
       "      <td>13138.830100</td>\n",
       "      <td>13204.309600</td>\n",
       "      <td>13061.769500</td>\n",
       "      <td>13169.919900</td>\n",
       "      <td>13169.919900</td>\n",
       "      <td>2.576705e+08</td>\n",
       "      <td>0.0</td>\n",
       "      <td>1.0</td>\n",
       "      <td>736895.000000</td>\n",
       "    </tr>\n",
       "  </tbody>\n",
       "</table>\n",
       "</div>"
      ],
      "text/plain": [
       "               Open          High           Low      4. close         Close  \\\n",
       "count    100.000000    100.000000    100.000000    100.000000    100.000000   \n",
       "mean   12413.881229  12480.751580  12331.891721  12410.117285  12410.117285   \n",
       "std     1293.325042   1297.317558   1287.138928   1293.041874   1293.041874   \n",
       "min        0.000000      0.000000      0.000000      0.000000      0.000000   \n",
       "25%    12322.247275  12380.745125  12204.732150  12305.797600  12305.797600   \n",
       "50%    12534.570350  12584.580050  12471.240250  12542.310050  12542.310050   \n",
       "75%    12788.652850  12832.219950  12714.402600  12790.909925  12790.909925   \n",
       "max    13138.830100  13204.309600  13061.769500  13169.919900  13169.919900   \n",
       "\n",
       "          6. volume  7. dividend amount  8. split coefficient           Date  \n",
       "count  1.000000e+02               100.0                 100.0     100.000000  \n",
       "mean   9.966966e+07                 0.0                   1.0  736825.280000  \n",
       "std    3.445684e+07                 0.0                   0.0      42.053617  \n",
       "min    0.000000e+00                 0.0                   1.0  736753.000000  \n",
       "25%    8.447128e+07                 0.0                   1.0  736789.750000  \n",
       "50%    9.921285e+07                 0.0                   1.0  736826.500000  \n",
       "75%    1.101684e+08                 0.0                   1.0  736860.750000  \n",
       "max    2.576705e+08                 0.0                   1.0  736895.000000  "
      ]
     },
     "execution_count": 6,
     "metadata": {},
     "output_type": "execute_result"
    }
   ],
   "source": [
    "# an inspection of the dataframe reveals a zero 'price'\n",
    "df.describe()"
   ]
  },
  {
   "cell_type": "code",
   "execution_count": 7,
   "metadata": {},
   "outputs": [
    {
     "data": {
      "text/plain": [
       "Open                   2018-05-21\n",
       "High                   2018-05-21\n",
       "Low                    2018-05-21\n",
       "4. close               2018-05-21\n",
       "Close                  2018-05-21\n",
       "6. volume              2018-04-27\n",
       "7. dividend amount     2018-02-28\n",
       "8. split coefficient   2018-02-28\n",
       "Date                   2018-02-28\n",
       "dtype: datetime64[ns]"
      ]
     },
     "execution_count": 7,
     "metadata": {},
     "output_type": "execute_result"
    }
   ],
   "source": [
    "# when was that?\n",
    "df.idxmin(axis=0)"
   ]
  },
  {
   "cell_type": "code",
   "execution_count": 8,
   "metadata": {},
   "outputs": [
    {
     "data": {
      "text/html": [
       "<div>\n",
       "<style scoped>\n",
       "    .dataframe tbody tr th:only-of-type {\n",
       "        vertical-align: middle;\n",
       "    }\n",
       "\n",
       "    .dataframe tbody tr th {\n",
       "        vertical-align: top;\n",
       "    }\n",
       "\n",
       "    .dataframe thead th {\n",
       "        text-align: right;\n",
       "    }\n",
       "</style>\n",
       "<table border=\"1\" class=\"dataframe\">\n",
       "  <thead>\n",
       "    <tr style=\"text-align: right;\">\n",
       "      <th></th>\n",
       "      <th>Open</th>\n",
       "      <th>High</th>\n",
       "      <th>Low</th>\n",
       "      <th>4. close</th>\n",
       "      <th>Close</th>\n",
       "      <th>6. volume</th>\n",
       "      <th>7. dividend amount</th>\n",
       "      <th>8. split coefficient</th>\n",
       "      <th>Date</th>\n",
       "    </tr>\n",
       "  </thead>\n",
       "  <tbody>\n",
       "    <tr>\n",
       "      <th>2018-05-21</th>\n",
       "      <td>0.0</td>\n",
       "      <td>0.0</td>\n",
       "      <td>0.0</td>\n",
       "      <td>0.0</td>\n",
       "      <td>0.0</td>\n",
       "      <td>0.0</td>\n",
       "      <td>0.0</td>\n",
       "      <td>1.0</td>\n",
       "      <td>736835.0</td>\n",
       "    </tr>\n",
       "  </tbody>\n",
       "</table>\n",
       "</div>"
      ],
      "text/plain": [
       "            Open  High  Low  4. close  Close  6. volume  7. dividend amount  \\\n",
       "2018-05-21   0.0   0.0  0.0       0.0    0.0        0.0                 0.0   \n",
       "\n",
       "            8. split coefficient      Date  \n",
       "2018-05-21                   1.0  736835.0  "
      ]
     },
     "execution_count": 8,
     "metadata": {},
     "output_type": "execute_result"
    }
   ],
   "source": [
    "# here is the row for that particular index\n",
    "df[df.index.to_pydatetime() == datetime.datetime(2018,5,21)]"
   ]
  },
  {
   "cell_type": "code",
   "execution_count": 9,
   "metadata": {},
   "outputs": [
    {
     "data": {
      "text/html": [
       "<div>\n",
       "<style scoped>\n",
       "    .dataframe tbody tr th:only-of-type {\n",
       "        vertical-align: middle;\n",
       "    }\n",
       "\n",
       "    .dataframe tbody tr th {\n",
       "        vertical-align: top;\n",
       "    }\n",
       "\n",
       "    .dataframe thead th {\n",
       "        text-align: right;\n",
       "    }\n",
       "</style>\n",
       "<table border=\"1\" class=\"dataframe\">\n",
       "  <thead>\n",
       "    <tr style=\"text-align: right;\">\n",
       "      <th></th>\n",
       "      <th>Open</th>\n",
       "      <th>High</th>\n",
       "      <th>Low</th>\n",
       "      <th>4. close</th>\n",
       "      <th>Close</th>\n",
       "      <th>6. volume</th>\n",
       "      <th>7. dividend amount</th>\n",
       "      <th>8. split coefficient</th>\n",
       "      <th>Date</th>\n",
       "    </tr>\n",
       "  </thead>\n",
       "  <tbody>\n",
       "    <tr>\n",
       "      <th>count</th>\n",
       "      <td>99.000000</td>\n",
       "      <td>99.000000</td>\n",
       "      <td>99.000000</td>\n",
       "      <td>99.000000</td>\n",
       "      <td>99.000000</td>\n",
       "      <td>9.900000e+01</td>\n",
       "      <td>99.0</td>\n",
       "      <td>99.0</td>\n",
       "      <td>99.000000</td>\n",
       "    </tr>\n",
       "    <tr>\n",
       "      <th>mean</th>\n",
       "      <td>12539.273969</td>\n",
       "      <td>12606.819778</td>\n",
       "      <td>12456.456284</td>\n",
       "      <td>12535.472005</td>\n",
       "      <td>12535.472005</td>\n",
       "      <td>1.006764e+08</td>\n",
       "      <td>0.0</td>\n",
       "      <td>1.0</td>\n",
       "      <td>736825.181818</td>\n",
       "    </tr>\n",
       "    <tr>\n",
       "      <th>std</th>\n",
       "      <td>318.401925</td>\n",
       "      <td>307.685004</td>\n",
       "      <td>325.831200</td>\n",
       "      <td>318.752251</td>\n",
       "      <td>318.752251</td>\n",
       "      <td>3.312095e+07</td>\n",
       "      <td>0.0</td>\n",
       "      <td>0.0</td>\n",
       "      <td>42.256110</td>\n",
       "    </tr>\n",
       "    <tr>\n",
       "      <th>min</th>\n",
       "      <td>11831.570300</td>\n",
       "      <td>11961.160200</td>\n",
       "      <td>11726.620100</td>\n",
       "      <td>11787.259800</td>\n",
       "      <td>11787.259800</td>\n",
       "      <td>0.000000e+00</td>\n",
       "      <td>0.0</td>\n",
       "      <td>1.0</td>\n",
       "      <td>736753.000000</td>\n",
       "    </tr>\n",
       "    <tr>\n",
       "      <th>25%</th>\n",
       "      <td>12323.194800</td>\n",
       "      <td>12382.110350</td>\n",
       "      <td>12222.674800</td>\n",
       "      <td>12306.665050</td>\n",
       "      <td>12306.665050</td>\n",
       "      <td>8.493115e+07</td>\n",
       "      <td>0.0</td>\n",
       "      <td>1.0</td>\n",
       "      <td>736789.500000</td>\n",
       "    </tr>\n",
       "    <tr>\n",
       "      <th>50%</th>\n",
       "      <td>12538.160200</td>\n",
       "      <td>12585.370100</td>\n",
       "      <td>12472.980500</td>\n",
       "      <td>12543.889600</td>\n",
       "      <td>12543.889600</td>\n",
       "      <td>9.935570e+07</td>\n",
       "      <td>0.0</td>\n",
       "      <td>1.0</td>\n",
       "      <td>736825.000000</td>\n",
       "    </tr>\n",
       "    <tr>\n",
       "      <th>75%</th>\n",
       "      <td>12791.155300</td>\n",
       "      <td>12836.899900</td>\n",
       "      <td>12714.774900</td>\n",
       "      <td>12794.689950</td>\n",
       "      <td>12794.689950</td>\n",
       "      <td>1.104162e+08</td>\n",
       "      <td>0.0</td>\n",
       "      <td>1.0</td>\n",
       "      <td>736861.500000</td>\n",
       "    </tr>\n",
       "    <tr>\n",
       "      <th>max</th>\n",
       "      <td>13138.830100</td>\n",
       "      <td>13204.309600</td>\n",
       "      <td>13061.769500</td>\n",
       "      <td>13169.919900</td>\n",
       "      <td>13169.919900</td>\n",
       "      <td>2.576705e+08</td>\n",
       "      <td>0.0</td>\n",
       "      <td>1.0</td>\n",
       "      <td>736895.000000</td>\n",
       "    </tr>\n",
       "  </tbody>\n",
       "</table>\n",
       "</div>"
      ],
      "text/plain": [
       "               Open          High           Low      4. close         Close  \\\n",
       "count     99.000000     99.000000     99.000000     99.000000     99.000000   \n",
       "mean   12539.273969  12606.819778  12456.456284  12535.472005  12535.472005   \n",
       "std      318.401925    307.685004    325.831200    318.752251    318.752251   \n",
       "min    11831.570300  11961.160200  11726.620100  11787.259800  11787.259800   \n",
       "25%    12323.194800  12382.110350  12222.674800  12306.665050  12306.665050   \n",
       "50%    12538.160200  12585.370100  12472.980500  12543.889600  12543.889600   \n",
       "75%    12791.155300  12836.899900  12714.774900  12794.689950  12794.689950   \n",
       "max    13138.830100  13204.309600  13061.769500  13169.919900  13169.919900   \n",
       "\n",
       "          6. volume  7. dividend amount  8. split coefficient           Date  \n",
       "count  9.900000e+01                99.0                  99.0      99.000000  \n",
       "mean   1.006764e+08                 0.0                   1.0  736825.181818  \n",
       "std    3.312095e+07                 0.0                   0.0      42.256110  \n",
       "min    0.000000e+00                 0.0                   1.0  736753.000000  \n",
       "25%    8.493115e+07                 0.0                   1.0  736789.500000  \n",
       "50%    9.935570e+07                 0.0                   1.0  736825.000000  \n",
       "75%    1.104162e+08                 0.0                   1.0  736861.500000  \n",
       "max    2.576705e+08                 0.0                   1.0  736895.000000  "
      ]
     },
     "execution_count": 9,
     "metadata": {},
     "output_type": "execute_result"
    }
   ],
   "source": [
    "# for the supplied list of columns, remove every row with at least one column being zero\n",
    "# this drops some data, which might suit most usecases\n",
    "\n",
    "#https://codereview.stackexchange.com/a/185390\n",
    "df = df[(df[['Open', 'High', 'Low', 'Close']] != 0).all(axis=1)]\n",
    "df.describe()"
   ]
  },
  {
   "cell_type": "code",
   "execution_count": 10,
   "metadata": {},
   "outputs": [
    {
     "data": {
      "image/png": "[encoded data removed]",
      "text/plain": [
       "<Figure size 432x288 with 1 Axes>"
      ]
     },
     "metadata": {},
     "output_type": "display_data"
    }
   ],
   "source": [
    "# seeing is believing:\n",
    "df['Close'].plot();"
   ]
  },
  {
   "cell_type": "code",
   "execution_count": 11,
   "metadata": {},
   "outputs": [
    {
     "data": {
      "text/html": [
       "<div>\n",
       "<style scoped>\n",
       "    .dataframe tbody tr th:only-of-type {\n",
       "        vertical-align: middle;\n",
       "    }\n",
       "\n",
       "    .dataframe tbody tr th {\n",
       "        vertical-align: top;\n",
       "    }\n",
       "\n",
       "    .dataframe thead th {\n",
       "        text-align: right;\n",
       "    }\n",
       "</style>\n",
       "<table border=\"1\" class=\"dataframe\">\n",
       "  <thead>\n",
       "    <tr style=\"text-align: right;\">\n",
       "      <th></th>\n",
       "      <th>Date</th>\n",
       "      <th>Open</th>\n",
       "      <th>High</th>\n",
       "      <th>Low</th>\n",
       "      <th>Close</th>\n",
       "    </tr>\n",
       "  </thead>\n",
       "  <tbody>\n",
       "    <tr>\n",
       "      <th>2018-02-28</th>\n",
       "      <td>736753.0</td>\n",
       "      <td>12427.4600</td>\n",
       "      <td>12516.9199</td>\n",
       "      <td>12417.9600</td>\n",
       "      <td>12435.8496</td>\n",
       "    </tr>\n",
       "    <tr>\n",
       "      <th>2018-03-01</th>\n",
       "      <td>736754.0</td>\n",
       "      <td>12386.4004</td>\n",
       "      <td>12387.8799</td>\n",
       "      <td>12143.1396</td>\n",
       "      <td>12190.9404</td>\n",
       "    </tr>\n",
       "    <tr>\n",
       "      <th>2018-03-02</th>\n",
       "      <td>736755.0</td>\n",
       "      <td>12051.8896</td>\n",
       "      <td>12081.4004</td>\n",
       "      <td>11877.6602</td>\n",
       "      <td>11913.7100</td>\n",
       "    </tr>\n",
       "    <tr>\n",
       "      <th>2018-03-05</th>\n",
       "      <td>736758.0</td>\n",
       "      <td>11831.5703</td>\n",
       "      <td>12110.1797</td>\n",
       "      <td>11830.9805</td>\n",
       "      <td>12090.8701</td>\n",
       "    </tr>\n",
       "    <tr>\n",
       "      <th>2018-03-06</th>\n",
       "      <td>736759.0</td>\n",
       "      <td>12229.2900</td>\n",
       "      <td>12259.5801</td>\n",
       "      <td>12110.3398</td>\n",
       "      <td>12113.8701</td>\n",
       "    </tr>\n",
       "  </tbody>\n",
       "</table>\n",
       "</div>"
      ],
      "text/plain": [
       "                Date        Open        High         Low       Close\n",
       "2018-02-28  736753.0  12427.4600  12516.9199  12417.9600  12435.8496\n",
       "2018-03-01  736754.0  12386.4004  12387.8799  12143.1396  12190.9404\n",
       "2018-03-02  736755.0  12051.8896  12081.4004  11877.6602  11913.7100\n",
       "2018-03-05  736758.0  11831.5703  12110.1797  11830.9805  12090.8701\n",
       "2018-03-06  736759.0  12229.2900  12259.5801  12110.3398  12113.8701"
      ]
     },
     "execution_count": 11,
     "metadata": {},
     "output_type": "execute_result"
    }
   ],
   "source": [
    "#df['Date'] = df.index #for single index\n",
    "#for multiindex see https://stackoverflow.com/a/46920777\n",
    "\n",
    "#df3['Date'] = df3.index.map(mdates.date2num)\n",
    "\n",
    "#Making a subset of the dataframe for consumption by candlestick_ohlc()\n",
    "ohlc = df[['Date','Open','High','Low','Close']]\n",
    "\n",
    "ohlc.head()\n"
   ]
  },
  {
   "cell_type": "code",
   "execution_count": 12,
   "metadata": {},
   "outputs": [
    {
     "data": {
      "image/png": "[encoded data removed]",
      "text/plain": [
       "<Figure size 720x360 with 1 Axes>"
      ]
     },
     "metadata": {},
     "output_type": "display_data"
    }
   ],
   "source": [
    "# finally a candlestick chart\n",
    "\n",
    "f1, ax = plt.subplots(figsize = (10,5))\n",
    "\n",
    "# plot the candlesticks\n",
    "candlestick_ohlc(ax, ohlc.values, width=.6, colorup='green', colordown='red')\n",
    "ax.xaxis.set_major_formatter(mdates.DateFormatter('%Y-%m'))\n",
    "\n",
    "plt.show();"
   ]
  },
  {
   "cell_type": "markdown",
   "metadata": {},
   "source": [
    "## With plain Python"
   ]
  },
  {
   "cell_type": "code",
   "execution_count": 13,
   "metadata": {},
   "outputs": [],
   "source": [
    "#import numpy as np\n",
    "import datetime\n",
    "from matplotlib import dates"
   ]
  },
  {
   "cell_type": "code",
   "execution_count": 14,
   "metadata": {},
   "outputs": [],
   "source": [
    "data = r.json()"
   ]
  },
  {
   "cell_type": "code",
   "execution_count": 15,
   "metadata": {},
   "outputs": [],
   "source": [
    "date = []\n",
    "open = []\n",
    "high = []\n",
    "low = []\n",
    "close = []\n",
    "ohlc = []\n",
    "for day in data['Time Series (Daily)']:\n",
    "    if data['Time Series (Daily)'][day]['1. open'] != '0.0000':\n",
    "        date.append(dates.date2num(datetime.datetime.strptime(day, '%Y-%m-%d')))\n",
    "        open.append(data['Time Series (Daily)'][day]['1. open'])\n",
    "        high.append(data['Time Series (Daily)'][day]['2. high'])\n",
    "        low.append(data['Time Series (Daily)'][day]['3. low'])\n",
    "        close.append(data['Time Series (Daily)'][day]['5. adjusted close'])\n",
    "        appendme = dates.date2num(datetime.datetime.strptime(day, '%Y-%m-%d')), \\\n",
    "        float(data['Time Series (Daily)'][day]['1. open']),\\\n",
    "        float(data['Time Series (Daily)'][day]['2. high']),\\\n",
    "        float(data['Time Series (Daily)'][day]['3. low']),\\\n",
    "        float(data['Time Series (Daily)'][day]['5. adjusted close'])\n",
    "        ohlc.append(appendme)\n",
    "                   "
   ]
  },
  {
   "cell_type": "code",
   "execution_count": 16,
   "metadata": {},
   "outputs": [
    {
     "data": {
      "image/png": "[encoded data removed]",
      "text/plain": [
       "<Figure size 720x360 with 1 Axes>"
      ]
     },
     "metadata": {},
     "output_type": "display_data"
    }
   ],
   "source": [
    "#https://matplotlib.org/api/finance_api.html\n",
    "f1, ax = plt.subplots(figsize = (10,5))\n",
    "candlestick_ohlc(ax, ohlc,\n",
    "                 width=0.6, colorup='green', colordown='red');\n",
    "ax.xaxis.set_major_formatter(mdates.DateFormatter('%Y-%m'))"
   ]
  },
  {
   "cell_type": "markdown",
   "metadata": {},
   "source": [
    "That's it for now!"
   ]
  }
 ],
 "metadata": {
  "kernelspec": {
   "display_name": "~/j-n/venv_f-s python3 finance-stuff",
   "language": "python",
   "name": "python3_finance-stuff"
  },
  "language_info": {
   "codemirror_mode": {
    "name": "ipython",
    "version": 3
   },
   "file_extension": ".py",
   "mimetype": "text/x-python",
   "name": "python",
   "nbconvert_exporter": "python",
   "pygments_lexer": "ipython3",
   "version": "3.6.5"
  }
 },
 "nbformat": 4,
 "nbformat_minor": 2
}
