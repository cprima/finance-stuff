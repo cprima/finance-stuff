{
 "cells": [
  {
   "cell_type": "code",
   "execution_count": 1,
   "metadata": {},
   "outputs": [],
   "source": [
    "from bs4 import BeautifulSoup\n",
    "import requests\n",
    "import re\n",
    "from datetime import datetime\n",
    "from decimal import Decimal"
   ]
  },
  {
   "cell_type": "code",
   "execution_count": 2,
   "metadata": {},
   "outputs": [],
   "source": [
    "result = requests.get(\"http://www.cboe.com/data/current-market-statistics/cboe-daily-market-statistics\")"
   ]
  },
  {
   "cell_type": "code",
   "execution_count": 3,
   "metadata": {},
   "outputs": [],
   "source": [
    "c = result.content"
   ]
  },
  {
   "cell_type": "code",
   "execution_count": 4,
   "metadata": {},
   "outputs": [],
   "source": [
    "soup = BeautifulSoup(c, 'html.parser')"
   ]
  },
  {
   "cell_type": "code",
   "execution_count": 5,
   "metadata": {},
   "outputs": [],
   "source": [
    "metadata = {}\n",
    "metadata['exchange'] = 'CBOE'\n",
    "metadata['currency'] = 'XXX'\n",
    "\n",
    "for tag in soup.find_all(text=re.compile('Market Summary for')):\n",
    "    metadata['date'] = datetime.strptime(tag.findParent().text.strip().splitlines()[-1].strip() + ' 23:55:55', '%A, %B %m, %Y %H:%M:%S')\n",
    "\n",
    "\n"
   ]
  },
  {
   "cell_type": "code",
   "execution_count": 6,
   "metadata": {},
   "outputs": [],
   "source": [
    "for tag in soup.find_all(text=re.compile('VIX - CBOE Volatility Index', re.DOTALL)):\n",
    "    nextrow = tag.findNext('tr')\n",
    "    verynextrow = tag.findNext('tr').findNext('tr')\n",
    "\n",
    "headers = nextrow.findAll('td')\n",
    "quotes = verynextrow.findAll('td')\n",
    "\n",
    "#print(headers, quotes)\n",
    "\n",
    "data = {}\n",
    "i = 0\n",
    "for header in headers:\n",
    "    data[header.text.strip().lower()] = Decimal(quotes[i].text.strip())\n",
    "    #print(i, header.text.strip().lower())\n",
    "    i += 1\n"
   ]
  },
  {
   "cell_type": "code",
   "execution_count": 7,
   "metadata": {},
   "outputs": [
    {
     "name": "stdout",
     "output_type": "stream",
     "text": [
      "{'exchange': 'CBOE', 'currency': 'XXX', 'date': datetime.datetime(2018, 7, 1, 23, 55, 55)} {'open': Decimal('11.12'), 'high': Decimal('11.24'), 'low': Decimal('10.52'), 'close': Decimal('10.93')}\n"
     ]
    }
   ],
   "source": [
    "print(metadata, data)"
   ]
  }
 ],
 "metadata": {
  "kernelspec": {
   "display_name": "~/j-n/venv_f-s python3 finance-stuff",
   "language": "python",
   "name": "python3_finance-stuff"
  },
  "language_info": {
   "codemirror_mode": {
    "name": "ipython",
    "version": 3
   },
   "file_extension": ".py",
   "mimetype": "text/x-python",
   "name": "python",
   "nbconvert_exporter": "python",
   "pygments_lexer": "ipython3",
   "version": "3.6.5"
  }
 },
 "nbformat": 4,
 "nbformat_minor": 2
}
