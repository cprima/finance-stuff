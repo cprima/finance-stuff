{
 "cells": [
  {
   "cell_type": "code",
   "execution_count": 1,
   "metadata": {},
   "outputs": [],
   "source": [
    "import feedparser\n"
   ]
  },
  {
   "cell_type": "code",
   "execution_count": null,
   "metadata": {},
   "outputs": [],
   "source": []
  },
  {
   "cell_type": "code",
   "execution_count": 24,
   "metadata": {},
   "outputs": [
    {
     "name": "stdout",
     "output_type": "stream",
     "text": [
      "\"myra-2fac3d1c\"\n",
      "ECB | US dollar (USD) - Euro foreign exchange reference rates\n",
      "5\n"
     ]
    }
   ],
   "source": [
    "\n",
    "feed = feedparser.parse(\"https://www.ecb.europa.eu/rss/fxref-usd.html\")\n",
    "print(feed.etag)\n",
    "feed_title = feed['feed']['title']\n",
    "feed_entries = feed.entries\n",
    "ratesToInsert = feed.entries\n",
    "print(feed_title)\n",
    "print(len(feed.entries))"
   ]
  },
  {
   "cell_type": "code",
   "execution_count": 25,
   "metadata": {},
   "outputs": [
    {
     "data": {
      "text/plain": [
       "304"
      ]
     },
     "execution_count": 25,
     "metadata": {},
     "output_type": "execute_result"
    }
   ],
   "source": [
    "feedReRequested = feedparser.parse('https://www.ecb.europa.eu/rss/fxref-usd.html', \n",
    "                     etag=feed.etag)\n",
    "feedReRequested.status"
   ]
  },
  {
   "cell_type": "code",
   "execution_count": 26,
   "metadata": {},
   "outputs": [
    {
     "name": "stdout",
     "output_type": "stream",
     "text": [
      "unchanged\n"
     ]
    }
   ],
   "source": [
    "if len(feedReRequested.entries) > 0:\n",
    "    ratesToInsert = feedNew.entries\n",
    "else:\n",
    "    print(\"unchanged\")"
   ]
  },
  {
   "cell_type": "code",
   "execution_count": 27,
   "metadata": {},
   "outputs": [
    {
     "data": {
      "text/plain": [
       "[{'id': 'http://www.ecb.europa.eu/stats/exchange/eurofxref/html/eurofxref-graph-usd.en.html?date=2018-08-10&rate=1.1456',\n",
       "  'title': '1.1456 USD = 1 EUR 2018-08-10 ECB Reference rate',\n",
       "  'title_detail': {'type': 'text/plain',\n",
       "   'language': 'en',\n",
       "   'base': 'https://www.ecb.europa.eu/rss/fxref-usd.html',\n",
       "   'value': '1.1456 USD = 1 EUR 2018-08-10 ECB Reference rate'},\n",
       "  'links': [{'rel': 'alternate',\n",
       "    'type': 'text/html',\n",
       "    'href': 'http://www.ecb.europa.eu/stats/exchange/eurofxref/html/eurofxref-graph-usd.en.html?date=2018-08-10&rate=1.1456'}],\n",
       "  'link': 'http://www.ecb.europa.eu/stats/exchange/eurofxref/html/eurofxref-graph-usd.en.html?date=2018-08-10&rate=1.1456',\n",
       "  'summary': \"1 EUR buys 1.1456 US dollar (USD) - The reference exchange rates are published both by electronic market information providers and on the ECB's website shortly after the concertation procedure has been completed. Reference rates are published according to the same  calendar as the TARGET system.\",\n",
       "  'summary_detail': {'type': 'text/html',\n",
       "   'language': 'en',\n",
       "   'base': 'https://www.ecb.europa.eu/rss/fxref-usd.html',\n",
       "   'value': \"1 EUR buys 1.1456 US dollar (USD) - The reference exchange rates are published both by electronic market information providers and on the ECB's website shortly after the concertation procedure has been completed. Reference rates are published according to the same  calendar as the TARGET system.\"},\n",
       "  'updated': '2018-08-10T14:15:00+01:00',\n",
       "  'updated_parsed': time.struct_time(tm_year=2018, tm_mon=8, tm_mday=10, tm_hour=13, tm_min=15, tm_sec=0, tm_wday=4, tm_yday=222, tm_isdst=0),\n",
       "  'language': 'en',\n",
       "  'cb_country': 'U2',\n",
       "  'cb_institutionabbrev': 'ECB',\n",
       "  'cb_value': {'frequency': 'daily', 'decimals': '4'},\n",
       "  'cb_basecurrency': {'unit_mult': '0'},\n",
       "  'cb_targetcurrency': 'USD',\n",
       "  'cb_ratetype': 'Reference rate',\n",
       "  'cb_exchangerate': '1.1456\\nEUR',\n",
       "  'cb_statistics': ''},\n",
       " {'id': 'http://www.ecb.europa.eu/stats/exchange/eurofxref/html/eurofxref-graph-usd.en.html?date=2018-08-09&rate=1.1593',\n",
       "  'title': '1.1593 USD = 1 EUR 2018-08-09 ECB Reference rate',\n",
       "  'title_detail': {'type': 'text/plain',\n",
       "   'language': 'en',\n",
       "   'base': 'https://www.ecb.europa.eu/rss/fxref-usd.html',\n",
       "   'value': '1.1593 USD = 1 EUR 2018-08-09 ECB Reference rate'},\n",
       "  'links': [{'rel': 'alternate',\n",
       "    'type': 'text/html',\n",
       "    'href': 'http://www.ecb.europa.eu/stats/exchange/eurofxref/html/eurofxref-graph-usd.en.html?date=2018-08-09&rate=1.1593'}],\n",
       "  'link': 'http://www.ecb.europa.eu/stats/exchange/eurofxref/html/eurofxref-graph-usd.en.html?date=2018-08-09&rate=1.1593',\n",
       "  'summary': \"1 EUR buys 1.1593 US dollar (USD) - The reference exchange rates are published both by electronic market information providers and on the ECB's website shortly after the concertation procedure has been completed. Reference rates are published according to the same  calendar as the TARGET system.\",\n",
       "  'summary_detail': {'type': 'text/html',\n",
       "   'language': 'en',\n",
       "   'base': 'https://www.ecb.europa.eu/rss/fxref-usd.html',\n",
       "   'value': \"1 EUR buys 1.1593 US dollar (USD) - The reference exchange rates are published both by electronic market information providers and on the ECB's website shortly after the concertation procedure has been completed. Reference rates are published according to the same  calendar as the TARGET system.\"},\n",
       "  'updated': '2018-08-09T14:15:00+01:00',\n",
       "  'updated_parsed': time.struct_time(tm_year=2018, tm_mon=8, tm_mday=9, tm_hour=13, tm_min=15, tm_sec=0, tm_wday=3, tm_yday=221, tm_isdst=0),\n",
       "  'language': 'en',\n",
       "  'cb_country': 'U2',\n",
       "  'cb_institutionabbrev': 'ECB',\n",
       "  'cb_value': {'frequency': 'daily', 'decimals': '4'},\n",
       "  'cb_basecurrency': {'unit_mult': '0'},\n",
       "  'cb_targetcurrency': 'USD',\n",
       "  'cb_ratetype': 'Reference rate',\n",
       "  'cb_exchangerate': '1.1593\\nEUR',\n",
       "  'cb_statistics': ''},\n",
       " {'id': 'http://www.ecb.europa.eu/stats/exchange/eurofxref/html/eurofxref-graph-usd.en.html?date=2018-08-08&rate=1.1589',\n",
       "  'title': '1.1589 USD = 1 EUR 2018-08-08 ECB Reference rate',\n",
       "  'title_detail': {'type': 'text/plain',\n",
       "   'language': 'en',\n",
       "   'base': 'https://www.ecb.europa.eu/rss/fxref-usd.html',\n",
       "   'value': '1.1589 USD = 1 EUR 2018-08-08 ECB Reference rate'},\n",
       "  'links': [{'rel': 'alternate',\n",
       "    'type': 'text/html',\n",
       "    'href': 'http://www.ecb.europa.eu/stats/exchange/eurofxref/html/eurofxref-graph-usd.en.html?date=2018-08-08&rate=1.1589'}],\n",
       "  'link': 'http://www.ecb.europa.eu/stats/exchange/eurofxref/html/eurofxref-graph-usd.en.html?date=2018-08-08&rate=1.1589',\n",
       "  'summary': \"1 EUR buys 1.1589 US dollar (USD) - The reference exchange rates are published both by electronic market information providers and on the ECB's website shortly after the concertation procedure has been completed. Reference rates are published according to the same  calendar as the TARGET system.\",\n",
       "  'summary_detail': {'type': 'text/html',\n",
       "   'language': 'en',\n",
       "   'base': 'https://www.ecb.europa.eu/rss/fxref-usd.html',\n",
       "   'value': \"1 EUR buys 1.1589 US dollar (USD) - The reference exchange rates are published both by electronic market information providers and on the ECB's website shortly after the concertation procedure has been completed. Reference rates are published according to the same  calendar as the TARGET system.\"},\n",
       "  'updated': '2018-08-08T14:15:00+01:00',\n",
       "  'updated_parsed': time.struct_time(tm_year=2018, tm_mon=8, tm_mday=8, tm_hour=13, tm_min=15, tm_sec=0, tm_wday=2, tm_yday=220, tm_isdst=0),\n",
       "  'language': 'en',\n",
       "  'cb_country': 'U2',\n",
       "  'cb_institutionabbrev': 'ECB',\n",
       "  'cb_value': {'frequency': 'daily', 'decimals': '4'},\n",
       "  'cb_basecurrency': {'unit_mult': '0'},\n",
       "  'cb_targetcurrency': 'USD',\n",
       "  'cb_ratetype': 'Reference rate',\n",
       "  'cb_exchangerate': '1.1589\\nEUR',\n",
       "  'cb_statistics': ''},\n",
       " {'id': 'http://www.ecb.europa.eu/stats/exchange/eurofxref/html/eurofxref-graph-usd.en.html?date=2018-08-07&rate=1.1602',\n",
       "  'title': '1.1602 USD = 1 EUR 2018-08-07 ECB Reference rate',\n",
       "  'title_detail': {'type': 'text/plain',\n",
       "   'language': 'en',\n",
       "   'base': 'https://www.ecb.europa.eu/rss/fxref-usd.html',\n",
       "   'value': '1.1602 USD = 1 EUR 2018-08-07 ECB Reference rate'},\n",
       "  'links': [{'rel': 'alternate',\n",
       "    'type': 'text/html',\n",
       "    'href': 'http://www.ecb.europa.eu/stats/exchange/eurofxref/html/eurofxref-graph-usd.en.html?date=2018-08-07&rate=1.1602'}],\n",
       "  'link': 'http://www.ecb.europa.eu/stats/exchange/eurofxref/html/eurofxref-graph-usd.en.html?date=2018-08-07&rate=1.1602',\n",
       "  'summary': \"1 EUR buys 1.1602 US dollar (USD) - The reference exchange rates are published both by electronic market information providers and on the ECB's website shortly after the concertation procedure has been completed. Reference rates are published according to the same  calendar as the TARGET system.\",\n",
       "  'summary_detail': {'type': 'text/html',\n",
       "   'language': 'en',\n",
       "   'base': 'https://www.ecb.europa.eu/rss/fxref-usd.html',\n",
       "   'value': \"1 EUR buys 1.1602 US dollar (USD) - The reference exchange rates are published both by electronic market information providers and on the ECB's website shortly after the concertation procedure has been completed. Reference rates are published according to the same  calendar as the TARGET system.\"},\n",
       "  'updated': '2018-08-07T14:15:00+01:00',\n",
       "  'updated_parsed': time.struct_time(tm_year=2018, tm_mon=8, tm_mday=7, tm_hour=13, tm_min=15, tm_sec=0, tm_wday=1, tm_yday=219, tm_isdst=0),\n",
       "  'language': 'en',\n",
       "  'cb_country': 'U2',\n",
       "  'cb_institutionabbrev': 'ECB',\n",
       "  'cb_value': {'frequency': 'daily', 'decimals': '4'},\n",
       "  'cb_basecurrency': {'unit_mult': '0'},\n",
       "  'cb_targetcurrency': 'USD',\n",
       "  'cb_ratetype': 'Reference rate',\n",
       "  'cb_exchangerate': '1.1602\\nEUR',\n",
       "  'cb_statistics': ''},\n",
       " {'id': 'http://www.ecb.europa.eu/stats/exchange/eurofxref/html/eurofxref-graph-usd.en.html?date=2018-08-06&rate=1.1543',\n",
       "  'title': '1.1543 USD = 1 EUR 2018-08-06 ECB Reference rate',\n",
       "  'title_detail': {'type': 'text/plain',\n",
       "   'language': 'en',\n",
       "   'base': 'https://www.ecb.europa.eu/rss/fxref-usd.html',\n",
       "   'value': '1.1543 USD = 1 EUR 2018-08-06 ECB Reference rate'},\n",
       "  'links': [{'rel': 'alternate',\n",
       "    'type': 'text/html',\n",
       "    'href': 'http://www.ecb.europa.eu/stats/exchange/eurofxref/html/eurofxref-graph-usd.en.html?date=2018-08-06&rate=1.1543'}],\n",
       "  'link': 'http://www.ecb.europa.eu/stats/exchange/eurofxref/html/eurofxref-graph-usd.en.html?date=2018-08-06&rate=1.1543',\n",
       "  'summary': \"1 EUR buys 1.1543 US dollar (USD) - The reference exchange rates are published both by electronic market information providers and on the ECB's website shortly after the concertation procedure has been completed. Reference rates are published according to the same  calendar as the TARGET system.\",\n",
       "  'summary_detail': {'type': 'text/html',\n",
       "   'language': 'en',\n",
       "   'base': 'https://www.ecb.europa.eu/rss/fxref-usd.html',\n",
       "   'value': \"1 EUR buys 1.1543 US dollar (USD) - The reference exchange rates are published both by electronic market information providers and on the ECB's website shortly after the concertation procedure has been completed. Reference rates are published according to the same  calendar as the TARGET system.\"},\n",
       "  'updated': '2018-08-06T14:15:00+01:00',\n",
       "  'updated_parsed': time.struct_time(tm_year=2018, tm_mon=8, tm_mday=6, tm_hour=13, tm_min=15, tm_sec=0, tm_wday=0, tm_yday=218, tm_isdst=0),\n",
       "  'language': 'en',\n",
       "  'cb_country': 'U2',\n",
       "  'cb_institutionabbrev': 'ECB',\n",
       "  'cb_value': {'frequency': 'daily', 'decimals': '4'},\n",
       "  'cb_basecurrency': {'unit_mult': '0'},\n",
       "  'cb_targetcurrency': 'USD',\n",
       "  'cb_ratetype': 'Reference rate',\n",
       "  'cb_exchangerate': '1.1543\\nEUR',\n",
       "  'cb_statistics': ''}]"
      ]
     },
     "execution_count": 27,
     "metadata": {},
     "output_type": "execute_result"
    }
   ],
   "source": [
    "ratesToInsert"
   ]
  },
  {
   "cell_type": "code",
   "execution_count": 33,
   "metadata": {},
   "outputs": [
    {
     "name": "stdout",
     "output_type": "stream",
     "text": [
      "2018-08-10T14:15:00+01:00 2018-08-10 13:15:00\n",
      "USD\n",
      "1.1456\n",
      "2018-08-09T14:15:00+01:00 2018-08-09 13:15:00\n",
      "USD\n",
      "1.1593\n",
      "2018-08-08T14:15:00+01:00 2018-08-08 13:15:00\n",
      "USD\n",
      "1.1589\n",
      "2018-08-07T14:15:00+01:00 2018-08-07 13:15:00\n",
      "USD\n",
      "1.1602\n",
      "2018-08-06T14:15:00+01:00 2018-08-06 13:15:00\n",
      "USD\n",
      "1.1543\n"
     ]
    }
   ],
   "source": [
    "from datetime import datetime\n",
    "\n",
    "for entry in ratesToInsert:\n",
    "    entry_title = entry.title\n",
    "    updated = entry.updated\n",
    "    #https://stackoverflow.com/a/1697838/9576512\n",
    "    updated_parsed_utc = datetime(*entry.updated_parsed[:5]+(min(entry.updated_parsed[5], 59),))\n",
    "    targetcurrency = entry.cb_targetcurrency\n",
    "    exchangerate = entry.cb_exchangerate.replace(\"\\nEUR\", \"\").strip()\n",
    "    #print(entry_title)\n",
    "    print(updated, updated_parsed_utc)\n",
    "    print(targetcurrency)\n",
    "    print(exchangerate)\n",
    "    "
   ]
  }
 ],
 "metadata": {
  "kernelspec": {
   "display_name": "~/j-n/venv_f-s python3 finance-stuff",
   "language": "python",
   "name": "python3_finance-stuff"
  },
  "language_info": {
   "codemirror_mode": {
    "name": "ipython",
    "version": 3
   },
   "file_extension": ".py",
   "mimetype": "text/x-python",
   "name": "python",
   "nbconvert_exporter": "python",
   "pygments_lexer": "ipython3",
   "version": "3.6.5"
  }
 },
 "nbformat": 4,
 "nbformat_minor": 2
}
